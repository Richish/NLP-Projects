{
  "nbformat": 4,
  "nbformat_minor": 0,
  "metadata": {
    "colab": {
      "name": "BasicTextPreprocessing.ipynb",
      "provenance": [],
      "authorship_tag": "ABX9TyNPtMsDzqbYoSlzWscCZ24C",
      "include_colab_link": true
    },
    "kernelspec": {
      "name": "python3",
      "display_name": "Python 3"
    },
    "language_info": {
      "name": "python"
    }
  },
  "cells": [
    {
      "cell_type": "markdown",
      "metadata": {
        "id": "view-in-github",
        "colab_type": "text"
      },
      "source": [
        "<a href=\"https://colab.research.google.com/github/Richish/NLP-Projects/blob/main/BasicTextPreprocessing.ipynb\" target=\"_parent\"><img src=\"https://colab.research.google.com/assets/colab-badge.svg\" alt=\"Open In Colab\"/></a>"
      ]
    },
    {
      "cell_type": "markdown",
      "metadata": {
        "id": "eZzykGro-hrg"
      },
      "source": [
        "# Basic Text Preprocessing"
      ]
    },
    {
      "cell_type": "markdown",
      "metadata": {
        "id": "G_elvD2f-tEq"
      },
      "source": [
        "### Tokenizers Using nltk"
      ]
    },
    {
      "cell_type": "code",
      "metadata": {
        "colab": {
          "base_uri": "https://localhost:8080/"
        },
        "id": "NbubiViQ-Zmp",
        "outputId": "4683f031-fee0-4c1f-dbde-d9de30d8f5e3"
      },
      "source": [
        "import nltk\n",
        "nltk.download('punkt')\n",
        "from nltk.tokenize import sent_tokenize, word_tokenize\n",
        "text = \"\"\"This is great. This is a sentence. Colab google: uploading images in multiple subdirectories: If you would like to upload images (or files) in multiples subdirectories by using Colab google, please follow the following steps: - I'll suppose that your images(files) are split into 3 subdirectories (train, validate, test) in the main directory called (dataDir): 1- Zip the folder (dataDir) to (dataDir.zip) 2- Write this code in a Colab cell:\"\"\"\n",
        "\n",
        "for sentence in sent_tokenize(texts):\n",
        "    print(sentence)\n",
        "    print(word_tokenize(sentence))"
      ],
      "execution_count": 7,
      "outputs": [
        {
          "output_type": "stream",
          "name": "stdout",
          "text": [
            "[nltk_data] Downloading package punkt to /root/nltk_data...\n",
            "[nltk_data]   Package punkt is already up-to-date!\n",
            "This is great.\n",
            "['This', 'is', 'great', '.']\n",
            "This is a sentence.\n",
            "['This', 'is', 'a', 'sentence', '.']\n",
            "Colab google: uploading images in multiple subdirectories: If you would like to upload images (or files) in multiples subdirectories by using Colab google, please follow the following steps: - I'll suppose that your images(files) are split into 3 subdirectories (train, validate, test) in the main directory called (dataDir): 1- Zip the folder (dataDir) to (dataDir.zip) 2- Write this code in a Colab cell:\n",
            "['Colab', 'google', ':', 'uploading', 'images', 'in', 'multiple', 'subdirectories', ':', 'If', 'you', 'would', 'like', 'to', 'upload', 'images', '(', 'or', 'files', ')', 'in', 'multiples', 'subdirectories', 'by', 'using', 'Colab', 'google', ',', 'please', 'follow', 'the', 'following', 'steps', ':', '-', 'I', \"'ll\", 'suppose', 'that', 'your', 'images', '(', 'files', ')', 'are', 'split', 'into', '3', 'subdirectories', '(', 'train', ',', 'validate', ',', 'test', ')', 'in', 'the', 'main', 'directory', 'called', '(', 'dataDir', ')', ':', '1-', 'Zip', 'the', 'folder', '(', 'dataDir', ')', 'to', '(', 'dataDir.zip', ')', '2-', 'Write', 'this', 'code', 'in', 'a', 'Colab', 'cell', ':']\n"
          ]
        }
      ]
    },
    {
      "cell_type": "markdown",
      "metadata": {
        "id": "Cj0-zFgEAtIw"
      },
      "source": [
        "### Removing stop words, punctuations and digits"
      ]
    },
    {
      "cell_type": "code",
      "metadata": {
        "colab": {
          "base_uri": "https://localhost:8080/"
        },
        "id": "gQvxpqmD_8mv",
        "outputId": "7c566fd7-c9e5-4f9b-c0b9-fc04fafd094a"
      },
      "source": [
        "from nltk.corpus import stopwords\n",
        "from string import punctuation\n",
        "nltk.download('stopwords')\n",
        "texts = [text]\n",
        "def preproces_corpus(texts):\n",
        "    my_stopwords = set(stopwords.words('english'))\n",
        "    def remove_stops_digits(tokens):\n",
        "        return [token.lower() for token in tokens if token not in my_stopwords and token not in punctuation and not token.isdigit()]\n",
        "    return [remove_stops_digits(word_tokenize(text)) for text in texts]\n",
        "\n",
        "print(preproces_corpus(texts))"
      ],
      "execution_count": 10,
      "outputs": [
        {
          "output_type": "stream",
          "name": "stdout",
          "text": [
            "[nltk_data] Downloading package stopwords to /root/nltk_data...\n",
            "[nltk_data]   Package stopwords is already up-to-date!\n",
            "[['this', 'great', 'this', 'sentence', 'colab', 'google', 'uploading', 'images', 'multiple', 'subdirectories', 'if', 'would', 'like', 'upload', 'images', 'files', 'multiples', 'subdirectories', 'using', 'colab', 'google', 'please', 'follow', 'following', 'steps', 'i', \"'ll\", 'suppose', 'images', 'files', 'split', 'subdirectories', 'train', 'validate', 'test', 'main', 'directory', 'called', 'datadir', '1-', 'zip', 'folder', 'datadir', 'datadir.zip', '2-', 'write', 'code', 'colab', 'cell']]\n"
          ]
        }
      ]
    }
  ]
}